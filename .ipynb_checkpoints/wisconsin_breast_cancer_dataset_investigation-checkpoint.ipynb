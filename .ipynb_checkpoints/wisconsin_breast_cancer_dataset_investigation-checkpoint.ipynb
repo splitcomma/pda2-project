{
 "cells": [
  {
   "cell_type": "markdown",
   "id": "353c2005",
   "metadata": {},
   "source": [
    "# Project II - Programming for Data Analysis\n",
    "\n",
    "# Wisconsin Breast Cancer dataset\n",
    "\n",
    "The Wisconsin Breast Cancer dataset is a widely used dataset for the classification of breast cancer as benign or malignant. It contains 569 samples of biopsy images, with each sample representing a tumor. The samples have been labeled as benign (212 samples) or malignant (357 samples). The dataset includes 30 features, which are computed from a digitized image of a fine needle aspirate (FNA) of a breast mass.\n",
    "\n",
    "The dataset was originally published in 1995 and has been widely used for breast cancer diagnosis and prognosis. It has also been used as a benchmark for evaluating the performance of machine learning algorithms.\n",
    "\n",
    "Breast cancer is the most common cancer in women worldwide, and early diagnosis is crucial for improving the chances of survival. There are various factors that can increase the risk of breast cancer, such as age, family history, and certain genetic mutations. In addition, certain lifestyle factors, such as diet and physical activity, may also play a role in the development of breast cancer.\n",
    "\n",
    "The treatment of breast cancer depends on the stage of the disease, as well as the type and aggressiveness of the tumor. Treatment options may include surgery, chemotherapy, radiation therapy, or a combination of these approaches. The long-term outlook for breast cancer patients has improved significantly in recent years, thanks to advances in early detection and treatment.\n",
    "\n",
    "\n",
    "## Overview and Background\n",
    "\n",
    "The dataset was collected by Dr. William H. Wolberg, from the University of Wisconsin Hospitals, Madison. The features were computed from the images, and are described in the following table:\n",
    "\n",
    "| Feature                 | Description                                                                                                                                                              |\n",
    "|-------------------------|--------------------------------------------------------------------------------------------------------------------------------------------------------------------------|\n",
    "| Radius (mean)           | Mean of distances from center to points on the perimeter                                                                                                                 |\n",
    "| Texture (mean)          | Standard deviation of gray-scale values                                                                                                                                  |\n",
    "| Perimeter (mean)        | Mean size of the core tumor                                                                                                                                              |\n",
    "| Area (mean)             | Mean area of the core tumor                                                                                                                                              |\n",
    "| Smoothness (mean)       | Mean of local variation in radius lengths                                                                                                                              |\n",
    "| Compactness (mean)      | Mean of perimeter^2 / area - 1.0                                                                                                                                        |\n",
    "| Concavity (mean)        | Mean of severity of concave portions of the contour                                                                                                                      |\n",
    "| Concave points (mean)   | Mean for number of concave portions of the contour                                                                                                                      |\n",
    "| Symmetry (mean)         | Mean symmetry of tumor mass                                                                                                                                              |\n",
    "| Fractal dimension (mean)| Mean for \"coastline approximation\" - 1                                                                                                                                    |\n",
    "| Radius (standard error) | Standard error for the mean of distances from center to points on the perimeter                                                                                          |\n",
    "| Texture (standard error)| Standard error for standard deviation of gray-scale values                                                                                                              |\n",
    "| Perimeter (standard error) | Standard error for the mean size of the core tumor                                                                                                                       |\n",
    "| Area (standard error)   | Standard error for the mean area of the core tumor                                                                                                                       |\n",
    "| Smoothness (standard error) | Standard error for the mean of local variation in radius lengths                                                                                                        |\n",
    "| Compactness (standard error)| Standard error for the mean of perimeter^2 / area - 1.0                                                                                                                  |\n",
    "| Concavity (standard error)| Standard error for the mean of severity of concave portions of the contour                                                                                              |\n",
    "| Concave points (standard error)| Standard error for the mean for number of concave portions of the contour                                                                                                |\n",
    "| Symmetry (standard error)| Standard error for the mean symmetry of tumor mass                                                                                                                        |\n",
    "| Fractal dimension (standard error)| Standard error for the mean for \"coastline approximation\" - 1                                                                                                            |\n",
    "| Radius (worst)          | \"Worst\" or largest mean value for mean of distances from center to points on the perimeter                                \n",
    "\n",
    "There have been numerous studies that have applied machine learning algorithms to the Wisconsin Breast Cancer dataset for the purpose of diagnosis and prognosis. Some of the most commonly used classifiers include logistic regression, decision trees, support vector machines (SVMs), and neural networks.\n",
    "\n",
    "Logistic regression is a statistical model that is used to predict the probability of a binary outcome, such as benign vs. malignant breast cancer. It is a simple and efficient classifier that can be trained using an iterative algorithm called gradient descent. One disadvantage of logistic regression is that it can only model linear relationships between features, so it may not be as effective for datasets with complex patterns.\n",
    "\n",
    "Decision trees are a type of classifier that works by dividing the feature space into regions based on the values of the features. Decision trees can handle both continuous and categorical data, and they are easy to interpret and visualize. However, they can be prone to overfitting, especially if they are not pruned appropriately.\n",
    "\n",
    "SVMs are a type of classifier that works by finding a hyperplane in the feature space that maximally separates the different classes. They are particularly effective for datasets with high-dimensional features, and they can be trained using a variety of kernel functions. However, they can be sensitive to the choice of kernel and the regularization parameters, and they may be computationally expensive for large datasets.\n",
    "\n",
    "Neural networks are a type of classifier that is inspired by the structure of the brain. They consist of layers of interconnected nodes, and they can learn to recognize patterns in the data through training. Neural networks can handle high-dimensional and non-linear data, but they can be difficult to interpret and may require a large amount of training data.\n",
    "\n",
    "In terms of performance, the results of different studies on the Wisconsin Breast Cancer dataset have been mixed. Some studies have found that logistic regression and decision trees perform well on the dataset, while others have found that SVMs and neural networks perform better. It is worth noting that the performance of a classifier depends on the specific characteristics of the dataset and the chosen parameters, so it is important to carefully evaluate the results and consider the trade-offs between different classifiers."
   ]
  },
  {
   "cell_type": "markdown",
   "id": "cb35459c",
   "metadata": {},
   "source": [
    "## Load and explore dataset\n",
    "\n",
    "the Wisconsin Breast Cancer dataset using Pandas and Seaborn. \n",
    "This includes checking for missing values, identifying the data types, and getting some summary statistics."
   ]
  },
  {
   "cell_type": "code",
   "execution_count": 1,
   "id": "db73cfd4",
   "metadata": {},
   "outputs": [
    {
     "name": "stdout",
     "output_type": "stream",
     "text": [
      "<class 'pandas.core.frame.DataFrame'>\n",
      "RangeIndex: 699 entries, 0 to 698\n",
      "Data columns (total 11 columns):\n",
      " #   Column             Non-Null Count  Dtype \n",
      "---  ------             --------------  ----- \n",
      " 0   id                 699 non-null    int64 \n",
      " 1   clump_thickness    699 non-null    int64 \n",
      " 2   size_uniformity    699 non-null    int64 \n",
      " 3   shape_uniformity   699 non-null    int64 \n",
      " 4   marginal_adhesion  699 non-null    int64 \n",
      " 5   epithelial_size    699 non-null    int64 \n",
      " 6   bare_nucleoli      699 non-null    object\n",
      " 7   bland_chromatin    699 non-null    int64 \n",
      " 8   normal_nucleoli    699 non-null    int64 \n",
      " 9   mitoses            699 non-null    int64 \n",
      " 10  class              699 non-null    int64 \n",
      "dtypes: int64(10), object(1)\n",
      "memory usage: 60.2+ KB\n"
     ]
    },
    {
     "data": {
      "text/html": [
       "<div>\n",
       "<style scoped>\n",
       "    .dataframe tbody tr th:only-of-type {\n",
       "        vertical-align: middle;\n",
       "    }\n",
       "\n",
       "    .dataframe tbody tr th {\n",
       "        vertical-align: top;\n",
       "    }\n",
       "\n",
       "    .dataframe thead th {\n",
       "        text-align: right;\n",
       "    }\n",
       "</style>\n",
       "<table border=\"1\" class=\"dataframe\">\n",
       "  <thead>\n",
       "    <tr style=\"text-align: right;\">\n",
       "      <th></th>\n",
       "      <th>id</th>\n",
       "      <th>clump_thickness</th>\n",
       "      <th>size_uniformity</th>\n",
       "      <th>shape_uniformity</th>\n",
       "      <th>marginal_adhesion</th>\n",
       "      <th>epithelial_size</th>\n",
       "      <th>bland_chromatin</th>\n",
       "      <th>normal_nucleoli</th>\n",
       "      <th>mitoses</th>\n",
       "      <th>class</th>\n",
       "    </tr>\n",
       "  </thead>\n",
       "  <tbody>\n",
       "    <tr>\n",
       "      <th>count</th>\n",
       "      <td>6.990000e+02</td>\n",
       "      <td>699.000000</td>\n",
       "      <td>699.000000</td>\n",
       "      <td>699.000000</td>\n",
       "      <td>699.000000</td>\n",
       "      <td>699.000000</td>\n",
       "      <td>699.000000</td>\n",
       "      <td>699.000000</td>\n",
       "      <td>699.000000</td>\n",
       "      <td>699.000000</td>\n",
       "    </tr>\n",
       "    <tr>\n",
       "      <th>mean</th>\n",
       "      <td>1.071704e+06</td>\n",
       "      <td>4.417740</td>\n",
       "      <td>3.134478</td>\n",
       "      <td>3.207439</td>\n",
       "      <td>2.806867</td>\n",
       "      <td>3.216023</td>\n",
       "      <td>3.437768</td>\n",
       "      <td>2.866953</td>\n",
       "      <td>1.589413</td>\n",
       "      <td>2.689557</td>\n",
       "    </tr>\n",
       "    <tr>\n",
       "      <th>std</th>\n",
       "      <td>6.170957e+05</td>\n",
       "      <td>2.815741</td>\n",
       "      <td>3.051459</td>\n",
       "      <td>2.971913</td>\n",
       "      <td>2.855379</td>\n",
       "      <td>2.214300</td>\n",
       "      <td>2.438364</td>\n",
       "      <td>3.053634</td>\n",
       "      <td>1.715078</td>\n",
       "      <td>0.951273</td>\n",
       "    </tr>\n",
       "    <tr>\n",
       "      <th>min</th>\n",
       "      <td>6.163400e+04</td>\n",
       "      <td>1.000000</td>\n",
       "      <td>1.000000</td>\n",
       "      <td>1.000000</td>\n",
       "      <td>1.000000</td>\n",
       "      <td>1.000000</td>\n",
       "      <td>1.000000</td>\n",
       "      <td>1.000000</td>\n",
       "      <td>1.000000</td>\n",
       "      <td>2.000000</td>\n",
       "    </tr>\n",
       "    <tr>\n",
       "      <th>25%</th>\n",
       "      <td>8.706885e+05</td>\n",
       "      <td>2.000000</td>\n",
       "      <td>1.000000</td>\n",
       "      <td>1.000000</td>\n",
       "      <td>1.000000</td>\n",
       "      <td>2.000000</td>\n",
       "      <td>2.000000</td>\n",
       "      <td>1.000000</td>\n",
       "      <td>1.000000</td>\n",
       "      <td>2.000000</td>\n",
       "    </tr>\n",
       "    <tr>\n",
       "      <th>50%</th>\n",
       "      <td>1.171710e+06</td>\n",
       "      <td>4.000000</td>\n",
       "      <td>1.000000</td>\n",
       "      <td>1.000000</td>\n",
       "      <td>1.000000</td>\n",
       "      <td>2.000000</td>\n",
       "      <td>3.000000</td>\n",
       "      <td>1.000000</td>\n",
       "      <td>1.000000</td>\n",
       "      <td>2.000000</td>\n",
       "    </tr>\n",
       "    <tr>\n",
       "      <th>75%</th>\n",
       "      <td>1.238298e+06</td>\n",
       "      <td>6.000000</td>\n",
       "      <td>5.000000</td>\n",
       "      <td>5.000000</td>\n",
       "      <td>4.000000</td>\n",
       "      <td>4.000000</td>\n",
       "      <td>5.000000</td>\n",
       "      <td>4.000000</td>\n",
       "      <td>1.000000</td>\n",
       "      <td>4.000000</td>\n",
       "    </tr>\n",
       "    <tr>\n",
       "      <th>max</th>\n",
       "      <td>1.345435e+07</td>\n",
       "      <td>10.000000</td>\n",
       "      <td>10.000000</td>\n",
       "      <td>10.000000</td>\n",
       "      <td>10.000000</td>\n",
       "      <td>10.000000</td>\n",
       "      <td>10.000000</td>\n",
       "      <td>10.000000</td>\n",
       "      <td>10.000000</td>\n",
       "      <td>4.000000</td>\n",
       "    </tr>\n",
       "  </tbody>\n",
       "</table>\n",
       "</div>"
      ],
      "text/plain": [
       "                 id  clump_thickness  size_uniformity  shape_uniformity  \\\n",
       "count  6.990000e+02       699.000000       699.000000        699.000000   \n",
       "mean   1.071704e+06         4.417740         3.134478          3.207439   \n",
       "std    6.170957e+05         2.815741         3.051459          2.971913   \n",
       "min    6.163400e+04         1.000000         1.000000          1.000000   \n",
       "25%    8.706885e+05         2.000000         1.000000          1.000000   \n",
       "50%    1.171710e+06         4.000000         1.000000          1.000000   \n",
       "75%    1.238298e+06         6.000000         5.000000          5.000000   \n",
       "max    1.345435e+07        10.000000        10.000000         10.000000   \n",
       "\n",
       "       marginal_adhesion  epithelial_size  bland_chromatin  normal_nucleoli  \\\n",
       "count         699.000000       699.000000       699.000000       699.000000   \n",
       "mean            2.806867         3.216023         3.437768         2.866953   \n",
       "std             2.855379         2.214300         2.438364         3.053634   \n",
       "min             1.000000         1.000000         1.000000         1.000000   \n",
       "25%             1.000000         2.000000         2.000000         1.000000   \n",
       "50%             1.000000         2.000000         3.000000         1.000000   \n",
       "75%             4.000000         4.000000         5.000000         4.000000   \n",
       "max            10.000000        10.000000        10.000000        10.000000   \n",
       "\n",
       "          mitoses       class  \n",
       "count  699.000000  699.000000  \n",
       "mean     1.589413    2.689557  \n",
       "std      1.715078    0.951273  \n",
       "min      1.000000    2.000000  \n",
       "25%      1.000000    2.000000  \n",
       "50%      1.000000    2.000000  \n",
       "75%      1.000000    4.000000  \n",
       "max     10.000000    4.000000  "
      ]
     },
     "execution_count": 1,
     "metadata": {},
     "output_type": "execute_result"
    }
   ],
   "source": [
    "# using the pandas library to load the Wisconsin Breast Cancer dataset into a Pandas DataFrame:\n",
    "import pandas as pd\n",
    "# using the seaborn library to visualize the distribution of the different features. \n",
    "import seaborn as sns\n",
    "\n",
    "df = pd.read_csv('wisconsin_breast_cancer.csv')\n",
    "# using the info() method to check for missing values and identify the data types of the columns:\n",
    "df.info()\n",
    "\n",
    "# use the describe() method to get some summary statistics of the dataset:\n",
    "df.describe()"
   ]
  },
  {
   "cell_type": "code",
   "execution_count": 3,
   "id": "e5cc4af2",
   "metadata": {},
   "outputs": [
    {
     "data": {
      "text/plain": [
       "<AxesSubplot: xlabel='clump_thickness', ylabel='Count'>"
      ]
     },
     "execution_count": 3,
     "metadata": {},
     "output_type": "execute_result"
    },
    {
     "data": {
      "image/png": "[encoded data removed]",
      "text/plain": [
       "<Figure size 640x480 with 1 Axes>"
      ]
     },
     "metadata": {},
     "output_type": "display_data"
    }
   ],
   "source": [
    "# use a histogram to visualize the distribution of a continuous variable:\n",
    "sns.histplot(df['clump_thickness'])"
   ]
  },
  {
   "cell_type": "code",
   "execution_count": 4,
   "id": "678e0518",
   "metadata": {},
   "outputs": [
    {
     "data": {
      "text/plain": [
       "<AxesSubplot: xlabel='size_uniformity', ylabel='shape_uniformity'>"
      ]
     },
     "execution_count": 4,
     "metadata": {},
     "output_type": "execute_result"
    },
    {
     "data": {
      "image/png": "[encoded data removed]",
      "text/plain": [
       "<Figure size 640x480 with 1 Axes>"
      ]
     },
     "metadata": {},
     "output_type": "display_data"
    }
   ],
   "source": [
    "#  use a box plot to compare the distribution of a continuous variable across different categories:\n",
    "sns.boxplot(x='size_uniformity', y='shape_uniformity', data=df)"
   ]
  },
  {
   "cell_type": "code",
   "execution_count": 5,
   "id": "afcf1ed2",
   "metadata": {},
   "outputs": [
    {
     "data": {
      "text/plain": [
       "<AxesSubplot: xlabel='size_uniformity', ylabel='shape_uniformity'>"
      ]
     },
     "execution_count": 5,
     "metadata": {},
     "output_type": "execute_result"
    },
    {
     "data": {
      "image/png": "[encoded data removed]",
      "text/plain": [
       "<Figure size 640x480 with 1 Axes>"
      ]
     },
     "metadata": {},
     "output_type": "display_data"
    }
   ],
   "source": [
    "# use a scatter plot to visualize the relationship between two continuous variables:\n",
    "sns.scatterplot(x='size_uniformity', y='shape_uniformity', data=df)"
   ]
  },
  {
   "cell_type": "markdown",
   "id": "8d8cf649",
   "metadata": {},
   "source": []
  }
 ],
 "metadata": {
  "kernelspec": {
   "display_name": "Python 3 (ipykernel)",
   "language": "python",
   "name": "python3"
  },
  "language_info": {
   "codemirror_mode": {
    "name": "ipython",
    "version": 3
   },
   "file_extension": ".py",
   "mimetype": "text/x-python",
   "name": "python",
   "nbconvert_exporter": "python",
   "pygments_lexer": "ipython3",
   "version": "3.11.0"
  }
 },
 "nbformat": 4,
 "nbformat_minor": 5
}
